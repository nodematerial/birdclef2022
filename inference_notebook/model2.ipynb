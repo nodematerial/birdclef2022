{
 "cells": [
  {
   "cell_type": "code",
   "execution_count": 1,
   "id": "01d1bf26",
   "metadata": {
    "execution": {
     "iopub.execute_input": "2022-04-28T02:48:36.386422Z",
     "iopub.status.busy": "2022-04-28T02:48:36.384718Z",
     "iopub.status.idle": "2022-04-28T02:49:37.348646Z",
     "shell.execute_reply": "2022-04-28T02:49:37.348040Z",
     "shell.execute_reply.started": "2022-04-28T02:36:07.233675Z"
    },
    "papermill": {
     "duration": 60.98669,
     "end_time": "2022-04-28T02:49:37.348841",
     "exception": false,
     "start_time": "2022-04-28T02:48:36.362151",
     "status": "completed"
    },
    "tags": []
   },
   "outputs": [
    {
     "name": "stdout",
     "output_type": "stream",
     "text": [
      "Processing ./timm-pytorch-image-models/pytorch-image-models-master\r\n",
      "  Preparing metadata (setup.py) ... \u001b[?25l-\b \bdone\r\n",
      "\u001b[?25hRequirement already satisfied: torch>=1.4 in /opt/conda/lib/python3.7/site-packages (from timm==0.5.4) (1.9.1)\r\n",
      "Requirement already satisfied: torchvision in /opt/conda/lib/python3.7/site-packages (from timm==0.5.4) (0.10.1)\r\n",
      "Requirement already satisfied: typing-extensions in /opt/conda/lib/python3.7/site-packages (from torch>=1.4->timm==0.5.4) (4.1.1)\r\n",
      "Requirement already satisfied: pillow>=5.3.0 in /opt/conda/lib/python3.7/site-packages (from torchvision->timm==0.5.4) (8.2.0)\r\n",
      "Requirement already satisfied: numpy in /opt/conda/lib/python3.7/site-packages (from torchvision->timm==0.5.4) (1.20.3)\r\n",
      "Building wheels for collected packages: timm\r\n",
      "  Building wheel for timm (setup.py) ... \u001b[?25l-\b \b\\\b \b|\b \bdone\r\n",
      "\u001b[?25h  Created wheel for timm: filename=timm-0.5.4-py3-none-any.whl size=431993 sha256=630cb2c685362f55b41000e54ce1cbbf97af5c096f6288f30029d840b3083c34\r\n",
      "  Stored in directory: /root/.cache/pip/wheels/29/8f/83/790cac9d0753c6ccaef1d2cf55fbd2d3617cea79af844a3f88\r\n",
      "Successfully built timm\r\n",
      "Installing collected packages: timm\r\n",
      "Successfully installed timm-0.5.4\r\n",
      "\u001b[33mWARNING: Running pip as the 'root' user can result in broken permissions and conflicting behaviour with the system package manager. It is recommended to use a virtual environment instead: https://pip.pypa.io/warnings/venv\u001b[0m\r\n",
      "Processing ./torchlibrosa/torchlibrosa-0.0.9-py2.py3-none-any.whl\r\n",
      "Requirement already satisfied: numpy in /opt/conda/lib/python3.7/site-packages (from torchlibrosa==0.0.9) (1.20.3)\r\n",
      "Requirement already satisfied: librosa>=0.6.0 in /opt/conda/lib/python3.7/site-packages (from torchlibrosa==0.0.9) (0.9.1)\r\n",
      "Requirement already satisfied: resampy>=0.2.2 in /opt/conda/lib/python3.7/site-packages (from librosa>=0.6.0->torchlibrosa==0.0.9) (0.2.2)\r\n",
      "Requirement already satisfied: packaging>=20.0 in /opt/conda/lib/python3.7/site-packages (from librosa>=0.6.0->torchlibrosa==0.0.9) (21.3)\r\n",
      "Requirement already satisfied: audioread>=2.1.5 in /opt/conda/lib/python3.7/site-packages (from librosa>=0.6.0->torchlibrosa==0.0.9) (2.1.9)\r\n",
      "Requirement already satisfied: soundfile>=0.10.2 in /opt/conda/lib/python3.7/site-packages (from librosa>=0.6.0->torchlibrosa==0.0.9) (0.10.3.post1)\r\n",
      "Requirement already satisfied: joblib>=0.14 in /opt/conda/lib/python3.7/site-packages (from librosa>=0.6.0->torchlibrosa==0.0.9) (1.1.0)\r\n",
      "Requirement already satisfied: scikit-learn>=0.19.1 in /opt/conda/lib/python3.7/site-packages (from librosa>=0.6.0->torchlibrosa==0.0.9) (1.0.1)\r\n",
      "Requirement already satisfied: pooch>=1.0 in /opt/conda/lib/python3.7/site-packages (from librosa>=0.6.0->torchlibrosa==0.0.9) (1.6.0)\r\n",
      "Requirement already satisfied: scipy>=1.2.0 in /opt/conda/lib/python3.7/site-packages (from librosa>=0.6.0->torchlibrosa==0.0.9) (1.7.3)\r\n",
      "Requirement already satisfied: decorator>=4.0.10 in /opt/conda/lib/python3.7/site-packages (from librosa>=0.6.0->torchlibrosa==0.0.9) (5.1.0)\r\n",
      "Requirement already satisfied: numba>=0.45.1 in /opt/conda/lib/python3.7/site-packages (from librosa>=0.6.0->torchlibrosa==0.0.9) (0.54.1)\r\n",
      "Requirement already satisfied: llvmlite<0.38,>=0.37.0rc1 in /opt/conda/lib/python3.7/site-packages (from numba>=0.45.1->librosa>=0.6.0->torchlibrosa==0.0.9) (0.37.0)\r\n",
      "Requirement already satisfied: setuptools in /opt/conda/lib/python3.7/site-packages (from numba>=0.45.1->librosa>=0.6.0->torchlibrosa==0.0.9) (59.5.0)\r\n",
      "Requirement already satisfied: pyparsing!=3.0.5,>=2.0.2 in /opt/conda/lib/python3.7/site-packages (from packaging>=20.0->librosa>=0.6.0->torchlibrosa==0.0.9) (3.0.6)\r\n",
      "Requirement already satisfied: appdirs>=1.3.0 in /opt/conda/lib/python3.7/site-packages (from pooch>=1.0->librosa>=0.6.0->torchlibrosa==0.0.9) (1.4.4)\r\n",
      "Requirement already satisfied: requests>=2.19.0 in /opt/conda/lib/python3.7/site-packages (from pooch>=1.0->librosa>=0.6.0->torchlibrosa==0.0.9) (2.26.0)\r\n",
      "Requirement already satisfied: six>=1.3 in /opt/conda/lib/python3.7/site-packages (from resampy>=0.2.2->librosa>=0.6.0->torchlibrosa==0.0.9) (1.16.0)\r\n",
      "Requirement already satisfied: threadpoolctl>=2.0.0 in /opt/conda/lib/python3.7/site-packages (from scikit-learn>=0.19.1->librosa>=0.6.0->torchlibrosa==0.0.9) (3.0.0)\r\n",
      "Requirement already satisfied: cffi>=1.0 in /opt/conda/lib/python3.7/site-packages (from soundfile>=0.10.2->librosa>=0.6.0->torchlibrosa==0.0.9) (1.15.0)\r\n",
      "Requirement already satisfied: pycparser in /opt/conda/lib/python3.7/site-packages (from cffi>=1.0->soundfile>=0.10.2->librosa>=0.6.0->torchlibrosa==0.0.9) (2.21)\r\n",
      "Requirement already satisfied: idna<4,>=2.5 in /opt/conda/lib/python3.7/site-packages (from requests>=2.19.0->pooch>=1.0->librosa>=0.6.0->torchlibrosa==0.0.9) (3.1)\r\n",
      "Requirement already satisfied: charset-normalizer~=2.0.0 in /opt/conda/lib/python3.7/site-packages (from requests>=2.19.0->pooch>=1.0->librosa>=0.6.0->torchlibrosa==0.0.9) (2.0.9)\r\n",
      "Requirement already satisfied: certifi>=2017.4.17 in /opt/conda/lib/python3.7/site-packages (from requests>=2.19.0->pooch>=1.0->librosa>=0.6.0->torchlibrosa==0.0.9) (2021.10.8)\r\n",
      "Requirement already satisfied: urllib3<1.27,>=1.21.1 in /opt/conda/lib/python3.7/site-packages (from requests>=2.19.0->pooch>=1.0->librosa>=0.6.0->torchlibrosa==0.0.9) (1.26.7)\r\n",
      "Installing collected packages: torchlibrosa\r\n",
      "Successfully installed torchlibrosa-0.0.9\r\n",
      "\u001b[33mWARNING: Running pip as the 'root' user can result in broken permissions and conflicting behaviour with the system package manager. It is recommended to use a virtual environment instead: https://pip.pypa.io/warnings/venv\u001b[0m\r\n"
     ]
    }
   ],
   "source": [
    "!cp -r ../input/timm-pytorch-image-models /kaggle/working/\n",
    "!pip install /kaggle/working/timm-pytorch-image-models/pytorch-image-models-master/\n",
    "!cp -r ../input/torchlibrosa /kaggle/working/\n",
    "!pip install /kaggle/working/torchlibrosa/torchlibrosa-0.0.9-py2.py3-none-any.whl"
   ]
  },
  {
   "cell_type": "code",
   "execution_count": 2,
   "id": "8aab5bca",
   "metadata": {
    "_cell_guid": "b1076dfc-b9ad-4769-8c92-a6c4dae69d19",
    "_uuid": "8f2839f25d086af736a60e9eeb907d3b93b6e0e5",
    "execution": {
     "iopub.execute_input": "2022-04-28T02:49:37.397096Z",
     "iopub.status.busy": "2022-04-28T02:49:37.396522Z",
     "iopub.status.idle": "2022-04-28T02:49:42.840017Z",
     "shell.execute_reply": "2022-04-28T02:49:42.839019Z",
     "shell.execute_reply.started": "2022-04-28T02:41:43.796957Z"
    },
    "papermill": {
     "duration": 5.470394,
     "end_time": "2022-04-28T02:49:42.840164",
     "exception": false,
     "start_time": "2022-04-28T02:49:37.369770",
     "status": "completed"
    },
    "tags": []
   },
   "outputs": [],
   "source": [
    "import re\n",
    "import cv2\n",
    "import audioread\n",
    "import logging\n",
    "import os\n",
    "import random\n",
    "import time\n",
    "import warnings\n",
    "\n",
    "import librosa\n",
    "import numpy as np\n",
    "import pandas as pd\n",
    "import soundfile as sf\n",
    "import timm\n",
    "import torch\n",
    "import torch.nn as nn\n",
    "import torch.nn.functional as F\n",
    "import torch.utils.data as torchdata\n",
    "\n",
    "from contextlib import contextmanager\n",
    "from pathlib import Path\n",
    "from typing import Optional\n",
    "\n",
    "from albumentations.core.transforms_interface import ImageOnlyTransform\n",
    "from torchlibrosa.stft import LogmelFilterBank, Spectrogram\n",
    "from torchlibrosa.augmentation import SpecAugmentation\n",
    "from tqdm import tqdm"
   ]
  },
  {
   "cell_type": "code",
   "execution_count": 3,
   "id": "d11630b8",
   "metadata": {
    "execution": {
     "iopub.execute_input": "2022-04-28T02:49:42.893365Z",
     "iopub.status.busy": "2022-04-28T02:49:42.891808Z",
     "iopub.status.idle": "2022-04-28T02:49:42.893956Z",
     "shell.execute_reply": "2022-04-28T02:49:42.894363Z",
     "shell.execute_reply.started": "2022-04-28T02:37:14.750922Z"
    },
    "papermill": {
     "duration": 0.033389,
     "end_time": "2022-04-28T02:49:42.894493",
     "exception": false,
     "start_time": "2022-04-28T02:49:42.861104",
     "status": "completed"
    },
    "tags": []
   },
   "outputs": [],
   "source": [
    "def set_seed(seed: int = 42):\n",
    "    random.seed(seed)\n",
    "    np.random.seed(seed)\n",
    "    os.environ[\"PYTHONHASHSEED\"] = str(seed)\n",
    "    torch.manual_seed(seed)\n",
    "    torch.cuda.manual_seed(seed)  # type: ignore\n",
    "    torch.backends.cudnn.deterministic = True  # type: ignore\n",
    "    torch.backends.cudnn.benchmark = True  # type: ignore\n",
    "    \n",
    "    \n",
    "def get_logger(out_file=None):\n",
    "    logger = logging.getLogger()\n",
    "    formatter = logging.Formatter(\"%(asctime)s - %(levelname)s - %(message)s\")\n",
    "    logger.handlers = []\n",
    "    logger.setLevel(logging.INFO)\n",
    "\n",
    "    handler = logging.StreamHandler()\n",
    "    handler.setFormatter(formatter)\n",
    "    handler.setLevel(logging.INFO)\n",
    "    logger.addHandler(handler)\n",
    "\n",
    "    if out_file is not None:\n",
    "        fh = logging.FileHandler(out_file)\n",
    "        fh.setFormatter(formatter)\n",
    "        fh.setLevel(logging.INFO)\n",
    "        logger.addHandler(fh)\n",
    "    logger.info(\"logger set up\")\n",
    "    return logger\n",
    "    \n",
    "    \n",
    "@contextmanager\n",
    "def timer(name: str, logger: Optional[logging.Logger] = None):\n",
    "    t0 = time.time()\n",
    "    msg = f\"[{name}] start\"\n",
    "    if logger is None:\n",
    "        print(msg)\n",
    "    else:\n",
    "        logger.info(msg)\n",
    "    yield\n",
    "\n",
    "    msg = f\"[{name}] done in {time.time() - t0:.2f} s\"\n",
    "    if logger is None:\n",
    "        print(msg)\n",
    "    else:\n",
    "        logger.info(msg)"
   ]
  },
  {
   "cell_type": "code",
   "execution_count": 4,
   "id": "c7deffdf",
   "metadata": {
    "execution": {
     "iopub.execute_input": "2022-04-28T02:49:42.940560Z",
     "iopub.status.busy": "2022-04-28T02:49:42.939979Z",
     "iopub.status.idle": "2022-04-28T02:49:42.946048Z",
     "shell.execute_reply": "2022-04-28T02:49:42.946526Z",
     "shell.execute_reply.started": "2022-04-28T02:37:14.766677Z"
    },
    "papermill": {
     "duration": 0.031813,
     "end_time": "2022-04-28T02:49:42.946688",
     "exception": false,
     "start_time": "2022-04-28T02:49:42.914875",
     "status": "completed"
    },
    "tags": []
   },
   "outputs": [
    {
     "name": "stderr",
     "output_type": "stream",
     "text": [
      "2022-04-28 02:49:42,938 - INFO - logger set up\n"
     ]
    }
   ],
   "source": [
    "logger = get_logger(\"main.log\")\n",
    "set_seed(1213)"
   ]
  },
  {
   "cell_type": "markdown",
   "id": "ee976a27",
   "metadata": {
    "papermill": {
     "duration": 0.020434,
     "end_time": "2022-04-28T02:49:42.987599",
     "exception": false,
     "start_time": "2022-04-28T02:49:42.967165",
     "status": "completed"
    },
    "tags": []
   },
   "source": [
    "## Config"
   ]
  },
  {
   "cell_type": "code",
   "execution_count": 5,
   "id": "08f6f619",
   "metadata": {
    "execution": {
     "iopub.execute_input": "2022-04-28T02:49:43.043108Z",
     "iopub.status.busy": "2022-04-28T02:49:43.042197Z",
     "iopub.status.idle": "2022-04-28T02:49:43.044249Z",
     "shell.execute_reply": "2022-04-28T02:49:43.044612Z",
     "shell.execute_reply.started": "2022-04-28T02:46:38.185016Z"
    },
    "papermill": {
     "duration": 0.036864,
     "end_time": "2022-04-28T02:49:43.044762",
     "exception": false,
     "start_time": "2022-04-28T02:49:43.007898",
     "status": "completed"
    },
    "tags": []
   },
   "outputs": [],
   "source": [
    "class CFG:\n",
    "    ######################\n",
    "    # Dataset #\n",
    "    ######################\n",
    "    transforms = {\n",
    "        \"test\": [{\"name\": \"Normalize\"}]\n",
    "    }\n",
    "    period = 20\n",
    "    n_mels = 128\n",
    "    fmin = 20\n",
    "    fmax = 16000\n",
    "    n_fft = 2048\n",
    "    hop_length = 512\n",
    "    sample_rate = 32000\n",
    "    melspectrogram_parameters = {\n",
    "        \"n_mels\": 224,\n",
    "        \"fmin\": 2000,\n",
    "        \"fmax\": 16000\n",
    "    }\n",
    "\n",
    "    target_columns = [\n",
    "        \"afrsil1\",\"akekee\",\"akepa1\",\"akiapo\",\"akikik\",\"amewig\",\"aniani\",\"apapan\",\n",
    "        \"arcter\",\"barpet\",\"bcnher\",\"belkin1\",\"bkbplo\",\"bknsti\",\"bkwpet\",\"blkfra\",\n",
    "        \"blknod\",\"bongul\",\"brant\",\"brnboo\",\"brnnod\",\"brnowl\",\"brtcur\",\"bubsan\",\n",
    "        \"buffle\",\"bulpet\",\"burpar\",\"buwtea\",\"cacgoo1\",\"calqua\",\"cangoo\",\"canvas\",\n",
    "        \"caster1\",\"categr\",\"chbsan\",\"chemun\",\"chukar\",\"cintea\",\"comgal1\",\"commyn\",\n",
    "        \"compea\",\"comsan\",\"comwax\",\"coopet\",\"crehon\",\"dunlin\",\"elepai\",\"ercfra\",\n",
    "        \"eurwig\",\"fragul\",\"gadwal\",\"gamqua\",\"glwgul\",\"gnwtea\",\"golphe\",\"grbher3\",\n",
    "        \"grefri\",\"gresca\",\"gryfra\",\"gwfgoo\",\"hawama\",\"hawcoo\",\"hawcre\",\"hawgoo\",\n",
    "        \"hawhaw\",\"hawpet1\",\"hoomer\",\"houfin\",\"houspa\",\"hudgod\",\"iiwi\",\"incter1\",\n",
    "        \"jabwar\",\"japqua\",\"kalphe\",\"kauama\",\"laugul\",\"layalb\",\"lcspet\",\"leasan\",\n",
    "        \"leater1\",\"lessca\",\"lesyel\",\"lobdow\",\"lotjae\",\"madpet\",\"magpet1\",\"mallar3\",\n",
    "        \"masboo\",\"mauala\",\"maupar\",\"merlin\",\"mitpar\",\"moudov\",\"norcar\",\"norhar2\",\n",
    "        \"normoc\",\"norpin\",\"norsho\",\"nutman\",\"oahama\",\"omao\",\"osprey\",\"pagplo\",\n",
    "        \"palila\",\"parjae\",\"pecsan\",\"peflov\",\"perfal\",\"pibgre\",\"pomjae\",\"puaioh\",\n",
    "        \"reccar\",\"redava\",\"redjun\",\"redpha1\",\"refboo\",\"rempar\",\"rettro\",\"ribgul\",\n",
    "        \"rinduc\",\"rinphe\",\"rocpig\",\"rorpar\",\"rudtur\",\"ruff\",\"saffin\",\"sander\",\n",
    "        \"semplo\",\"sheowl\",\"shtsan\",\"skylar\",\"snogoo\",\"sooshe\",\"sooter1\",\"sopsku1\",\n",
    "        \"sora\",\"spodov\",\"sposan\",\"towsol\",\"wantat1\",\"warwhe1\",\"wesmea\",\"wessan\",\n",
    "        \"wetshe\",\"whfibi\",\"whiter\",\"whttro\",\"wiltur\",\"yebcar\",\"yefcan\",\"zebdov\",\n",
    "    ] \n",
    "\n",
    "    scored_birds =  {\"akiapo\" : 0, \"aniani\" : 1, \"apapan\" : 2, \"barpet\" : 3, \"crehon\" : 4,\n",
    "                    \"elepai\" : 5, \"ercfra\" : 6, \"hawama\" : 7, \"hawcre\": 8, \"hawgoo\" : 9, \n",
    "                    \"hawhaw\" : 10, \"hawpet1\" : 11, \"houfin\" : 12, \"iiwi\" :13, \"jabwar\" : 14,\n",
    "                    \"maupar\" : 15, \"omao\" : 16, \"puaioh\" : 17, \"skylar\" : 18, \"warwhe1\" : 19, \"yefcan\" : 20}\n",
    "\n",
    "\n",
    "    loader_params = {\n",
    "        \"test\": {\n",
    "            \"batch_size\": 64,\n",
    "            \"num_workers\": 20,\n",
    "            \"shuffle\": False\n",
    "        }\n",
    "    }\n",
    "\n",
    "\n",
    "    base_model_name = \"resnet101d\"\n",
    "    pooling = \"max\"\n",
    "    pretrained = True\n",
    "    num_classes = 152\n",
    "    in_channels = 1\n"
   ]
  },
  {
   "cell_type": "markdown",
   "id": "25247883",
   "metadata": {
    "papermill": {
     "duration": 0.020199,
     "end_time": "2022-04-28T02:49:43.085488",
     "exception": false,
     "start_time": "2022-04-28T02:49:43.065289",
     "status": "completed"
    },
    "tags": []
   },
   "source": [
    "## Define Model"
   ]
  },
  {
   "cell_type": "code",
   "execution_count": 6,
   "id": "0f4fe1fe",
   "metadata": {
    "execution": {
     "iopub.execute_input": "2022-04-28T02:49:43.149197Z",
     "iopub.status.busy": "2022-04-28T02:49:43.148283Z",
     "iopub.status.idle": "2022-04-28T02:49:43.150284Z",
     "shell.execute_reply": "2022-04-28T02:49:43.150640Z",
     "shell.execute_reply.started": "2022-04-28T02:45:23.003498Z"
    },
    "papermill": {
     "duration": 0.044876,
     "end_time": "2022-04-28T02:49:43.150787",
     "exception": false,
     "start_time": "2022-04-28T02:49:43.105911",
     "status": "completed"
    },
    "tags": []
   },
   "outputs": [],
   "source": [
    "def init_layer(layer):\n",
    "    nn.init.xavier_uniform_(layer.weight)\n",
    "\n",
    "    if hasattr(layer, \"bias\"):\n",
    "        if layer.bias is not None:\n",
    "            layer.bias.data.fill_(0.)\n",
    "\n",
    "\n",
    "def init_bn(bn):\n",
    "    bn.bias.data.fill_(0.)\n",
    "    bn.weight.data.fill_(1.0)\n",
    "\n",
    "\n",
    "def init_weights(model):\n",
    "    classname = model.__class__.__name__\n",
    "    if classname.find(\"Conv2d\") != -1:\n",
    "        nn.init.xavier_uniform_(model.weight, gain=np.sqrt(2))\n",
    "        model.bias.data.fill_(0)\n",
    "    elif classname.find(\"BatchNorm\") != -1:\n",
    "        model.weight.data.normal_(1.0, 0.02)\n",
    "        model.bias.data.fill_(0)\n",
    "    elif classname.find(\"GRU\") != -1:\n",
    "        for weight in model.parameters():\n",
    "            if len(weight.size()) > 1:\n",
    "                nn.init.orghogonal_(weight.data)\n",
    "    elif classname.find(\"Linear\") != -1:\n",
    "        model.weight.data.normal_(0, 0.01)\n",
    "        model.bias.data.zero_()\n",
    "\n",
    "\n",
    "class GeM(nn.Module):\n",
    "    def __init__(self, p=3, eps=1e-6):\n",
    "        super(GeM, self).__init__()\n",
    "        self.p = nn.Parameter(torch.ones(1)*p)\n",
    "        self.eps = eps\n",
    "\n",
    "    def forward(self, x):\n",
    "        return self.gem(x, p=self.p, eps=self.eps)\n",
    "        \n",
    "    def gem(self, x, p=3, eps=1e-6):\n",
    "        return F.avg_pool2d(x.clamp(min=eps).pow(p), (x.size(-2), x.size(-1))).pow(1./p)\n",
    "\n",
    "\n",
    "class Simple(nn.Module):\n",
    "    def __init__(self, base_model_name: str, pretrained=False, num_classes=152, in_channels=1):\n",
    "        super().__init__()\n",
    "        # Spectrogram extractor\n",
    "        self.spectrogram_extractor = Spectrogram(n_fft=CFG.n_fft, hop_length=CFG.hop_length,\n",
    "                                                 win_length=CFG.n_fft, window=\"hann\", center=True, pad_mode=\"reflect\",\n",
    "                                                 freeze_parameters=True)\n",
    "\n",
    "        # Logmel feature extractor\n",
    "        self.logmel_extractor = LogmelFilterBank(sr=CFG.sample_rate, n_fft=CFG.n_fft,\n",
    "                                                 n_mels=CFG.n_mels, fmin=CFG.fmin, fmax=CFG.fmax, ref=1.0, amin=1e-10, top_db=None,\n",
    "                                                 freeze_parameters=True)\n",
    "\n",
    "        # Spec augmenter\n",
    "        self.spec_augmenter = SpecAugmentation(time_drop_width=64, time_stripes_num=2,\n",
    "                                               freq_drop_width=8, freq_stripes_num=2)\n",
    "\n",
    "\n",
    "        self.bn0 = nn.BatchNorm2d(CFG.n_mels)\n",
    "\n",
    "        base_model = timm.create_model(\n",
    "            base_model_name, pretrained=pretrained, in_chans=in_channels)\n",
    "        layers = list(base_model.children())[:-2]\n",
    "        self.encoder = nn.Sequential(*layers)\n",
    "\n",
    "        if hasattr(base_model, \"fc\"):\n",
    "            in_features = base_model.fc.in_features\n",
    "        else:\n",
    "            in_features = base_model.classifier.in_features\n",
    "        self.fc1 = nn.Linear(in_features, num_classes, bias=True)\n",
    "        self.gem = GeM()\n",
    "        self.init_weight()\n",
    "\n",
    "    def init_weight(self):\n",
    "        init_layer(self.fc1)\n",
    "        init_bn(self.bn0)\n",
    "\n",
    "    def forward(self, input):\n",
    "        # (batch_size, 1, time_steps, freq_bins)\n",
    "        x = self.spectrogram_extractor(input)\n",
    "        x = self.logmel_extractor(x)    # (batch_size, 1, time_steps, mel_bins)\n",
    "\n",
    "        x = x.transpose(1, 3)\n",
    "        x = self.bn0(x)\n",
    "        x = x.transpose(1, 3)\n",
    "\n",
    "        if self.training:\n",
    "            x = self.spec_augmenter(x)\n",
    "\n",
    "        x = x.transpose(2, 3)\n",
    "        # (batch_size, channels, freq, frames)\n",
    "        x = self.encoder(x)\n",
    "\n",
    "        # (batch_size, channels)\n",
    "        x = torch.squeeze(self.gem(x))\n",
    "        x = F.dropout(x, p=0.5, training=self.training)\n",
    "        logit = self.fc1(x)\n",
    "\n",
    "        return logit"
   ]
  },
  {
   "cell_type": "markdown",
   "id": "5470e8d3",
   "metadata": {
    "papermill": {
     "duration": 0.022089,
     "end_time": "2022-04-28T02:49:43.193672",
     "exception": false,
     "start_time": "2022-04-28T02:49:43.171583",
     "status": "completed"
    },
    "tags": []
   },
   "source": [
    "## Dataset"
   ]
  },
  {
   "cell_type": "code",
   "execution_count": 7,
   "id": "97f56067",
   "metadata": {
    "execution": {
     "iopub.execute_input": "2022-04-28T02:49:43.242377Z",
     "iopub.status.busy": "2022-04-28T02:49:43.241628Z",
     "iopub.status.idle": "2022-04-28T02:49:43.244132Z",
     "shell.execute_reply": "2022-04-28T02:49:43.243702Z",
     "shell.execute_reply.started": "2022-04-28T02:45:23.438808Z"
    },
    "papermill": {
     "duration": 0.03015,
     "end_time": "2022-04-28T02:49:43.244234",
     "exception": false,
     "start_time": "2022-04-28T02:49:43.214084",
     "status": "completed"
    },
    "tags": []
   },
   "outputs": [],
   "source": [
    "class TestDataset(torchdata.Dataset):\n",
    "    def __init__(self, df: pd.DataFrame, clip: np.ndarray,\n",
    "                 waveform_transforms=None):\n",
    "        self.df = df\n",
    "        self.clip = clip\n",
    "        self.waveform_transforms=waveform_transforms\n",
    "        \n",
    "    def __len__(self):\n",
    "        return len(self.df)\n",
    "    \n",
    "    def __getitem__(self, idx: int):\n",
    "        SR = 32000\n",
    "        sample = self.df.loc[idx, :]\n",
    "        row_id = sample.row_id\n",
    "\n",
    "        end_seconds = int(sample.seconds)\n",
    "        start_seconds = int(end_seconds - 5)\n",
    "\n",
    "        start_index = SR * start_seconds\n",
    "        end_index = SR * end_seconds\n",
    "\n",
    "        y = self.clip[start_index:end_index].astype(np.float32)\n",
    "\n",
    "        y = np.nan_to_num(y)\n",
    "\n",
    "        if self.waveform_transforms:\n",
    "            y = self.waveform_transforms(y)\n",
    "\n",
    "        y = np.nan_to_num(y)\n",
    "\n",
    "        return y, row_id"
   ]
  },
  {
   "cell_type": "code",
   "execution_count": 8,
   "id": "8efb2c6b",
   "metadata": {
    "execution": {
     "iopub.execute_input": "2022-04-28T02:49:43.299173Z",
     "iopub.status.busy": "2022-04-28T02:49:43.298431Z",
     "iopub.status.idle": "2022-04-28T02:49:43.301007Z",
     "shell.execute_reply": "2022-04-28T02:49:43.300498Z",
     "shell.execute_reply.started": "2022-04-28T02:45:23.638185Z"
    },
    "papermill": {
     "duration": 0.036722,
     "end_time": "2022-04-28T02:49:43.301121",
     "exception": false,
     "start_time": "2022-04-28T02:49:43.264399",
     "status": "completed"
    },
    "tags": []
   },
   "outputs": [],
   "source": [
    "def get_transforms(phase: str):\n",
    "    transforms = CFG.transforms\n",
    "    if transforms is None:\n",
    "        return None\n",
    "    else:\n",
    "        if transforms[phase] is None:\n",
    "            return None\n",
    "        trns_list = []\n",
    "        for trns_conf in transforms[phase]:\n",
    "            trns_name = trns_conf[\"name\"]\n",
    "            trns_params = {} if trns_conf.get(\"params\") is None else \\\n",
    "                trns_conf[\"params\"]\n",
    "            if globals().get(trns_name) is not None:\n",
    "                trns_cls = globals()[trns_name]\n",
    "                trns_list.append(trns_cls(**trns_params))\n",
    "\n",
    "        if len(trns_list) > 0:\n",
    "            return Compose(trns_list)\n",
    "        else:\n",
    "            return None\n",
    "\n",
    "\n",
    "def get_waveform_transforms(config: dict, phase: str):\n",
    "    return get_transforms(config, phase)\n",
    "\n",
    "\n",
    "def get_spectrogram_transforms(config: dict, phase: str):\n",
    "    transforms = config.get('spectrogram_transforms')\n",
    "    if transforms is None:\n",
    "        return None\n",
    "    else:\n",
    "        if transforms[phase] is None:\n",
    "            return None\n",
    "        trns_list = []\n",
    "        for trns_conf in transforms[phase]:\n",
    "            trns_name = trns_conf[\"name\"]\n",
    "            trns_params = {} if trns_conf.get(\"params\") is None else \\\n",
    "                trns_conf[\"params\"]\n",
    "            if hasattr(A, trns_name):\n",
    "                trns_cls = A.__getattribute__(trns_name)\n",
    "                trns_list.append(trns_cls(**trns_params))\n",
    "            else:\n",
    "                trns_cls = globals().get(trns_name)\n",
    "                if trns_cls is not None:\n",
    "                    trns_list.append(trns_cls(**trns_params))\n",
    "\n",
    "        if len(trns_list) > 0:\n",
    "            return A.Compose(trns_list, p=1.0)\n",
    "        else:\n",
    "            return None\n",
    "\n",
    "\n",
    "class Normalize:\n",
    "    def __call__(self, y: np.ndarray):\n",
    "        max_vol = np.abs(y).max()\n",
    "        y_vol = y * 1 / max_vol\n",
    "        return np.asfortranarray(y_vol)\n",
    "\n",
    "\n",
    "class NewNormalize:\n",
    "    def __call__(self, y: np.ndarray):\n",
    "        y_mm = y - y.mean()\n",
    "        return y_mm / y_mm.abs().max()\n",
    "\n",
    "\n",
    "class Compose:\n",
    "    def __init__(self, transforms: list):\n",
    "        self.transforms = transforms\n",
    "\n",
    "    def __call__(self, y: np.ndarray):\n",
    "        for trns in self.transforms:\n",
    "            y = trns(y)\n",
    "        return y"
   ]
  },
  {
   "cell_type": "markdown",
   "id": "a506755b",
   "metadata": {
    "papermill": {
     "duration": 0.02036,
     "end_time": "2022-04-28T02:49:43.341809",
     "exception": false,
     "start_time": "2022-04-28T02:49:43.321449",
     "status": "completed"
    },
    "tags": []
   },
   "source": [
    "## Get model"
   ]
  },
  {
   "cell_type": "code",
   "execution_count": 9,
   "id": "b6848cb7",
   "metadata": {
    "execution": {
     "iopub.execute_input": "2022-04-28T02:49:43.388777Z",
     "iopub.status.busy": "2022-04-28T02:49:43.387952Z",
     "iopub.status.idle": "2022-04-28T02:49:43.389882Z",
     "shell.execute_reply": "2022-04-28T02:49:43.390338Z",
     "shell.execute_reply.started": "2022-04-28T02:45:24.512401Z"
    },
    "papermill": {
     "duration": 0.028068,
     "end_time": "2022-04-28T02:49:43.390483",
     "exception": false,
     "start_time": "2022-04-28T02:49:43.362415",
     "status": "completed"
    },
    "tags": []
   },
   "outputs": [],
   "source": [
    "def prepare_model_for_inference(model, path: Path):\n",
    "    if not torch.cuda.is_available():\n",
    "        ckpt = torch.load(path, map_location=\"cpu\")\n",
    "    else:\n",
    "        ckpt = torch.load(path)\n",
    "    model.load_state_dict(ckpt)\n",
    "    model.eval()\n",
    "    return model"
   ]
  },
  {
   "cell_type": "code",
   "execution_count": 10,
   "id": "6ec9f7c0",
   "metadata": {
    "execution": {
     "iopub.execute_input": "2022-04-28T02:49:43.441459Z",
     "iopub.status.busy": "2022-04-28T02:49:43.440638Z",
     "iopub.status.idle": "2022-04-28T02:49:43.442555Z",
     "shell.execute_reply": "2022-04-28T02:49:43.442979Z",
     "shell.execute_reply.started": "2022-04-28T02:45:25.073657Z"
    },
    "papermill": {
     "duration": 0.031429,
     "end_time": "2022-04-28T02:49:43.443101",
     "exception": false,
     "start_time": "2022-04-28T02:49:43.411672",
     "status": "completed"
    },
    "tags": []
   },
   "outputs": [],
   "source": [
    "def prediction_for_clip(test_df: pd.DataFrame, \n",
    "                        clip: np.ndarray, \n",
    "                        model, \n",
    "                        threshold=0.5):\n",
    "\n",
    "    dataset = TestDataset(df=test_df, \n",
    "                          clip=clip,\n",
    "                          waveform_transforms=get_transforms(phase=\"test\"))\n",
    "    loader = torchdata.DataLoader(dataset, batch_size=1, shuffle=False)\n",
    "    device = torch.device(\"cuda\" if torch.cuda.is_available() else \"cpu\")\n",
    "    \n",
    "    model.eval()\n",
    "    prediction_dict = {}\n",
    "    for image, row_id in tqdm(loader):\n",
    "        row_id = row_id[0]\n",
    "        image = image.to(device)\n",
    "\n",
    "        with torch.no_grad():\n",
    "            prediction = model(image)\n",
    "            proba = torch.sigmoid(prediction).detach().cpu().numpy().reshape(-1)\n",
    "\n",
    "        events = proba >= threshold\n",
    "        labels = np.argwhere(events).reshape(-1).tolist()\n",
    "\n",
    "        if len(labels) == 0:\n",
    "            prediction_dict[row_id] = []\n",
    "        else:\n",
    "            labels_list = list(map(lambda x: CFG.target_columns[x], labels))\n",
    "            prediction_dict[row_id] = labels_list\n",
    "    return prediction_dict"
   ]
  },
  {
   "cell_type": "code",
   "execution_count": 11,
   "id": "d42f5404",
   "metadata": {
    "execution": {
     "iopub.execute_input": "2022-04-28T02:49:43.496964Z",
     "iopub.status.busy": "2022-04-28T02:49:43.496152Z",
     "iopub.status.idle": "2022-04-28T02:49:43.498539Z",
     "shell.execute_reply": "2022-04-28T02:49:43.498136Z",
     "shell.execute_reply.started": "2022-04-28T02:45:25.478204Z"
    },
    "papermill": {
     "duration": 0.035063,
     "end_time": "2022-04-28T02:49:43.498646",
     "exception": false,
     "start_time": "2022-04-28T02:49:43.463583",
     "status": "completed"
    },
    "tags": []
   },
   "outputs": [],
   "source": [
    "def create_df(prediction_dict : dict):\n",
    "    dfs = []\n",
    "    for key, value in prediction_dict.items():\n",
    "        elements = key.split(\"_\")\n",
    "        rows = [\"_\".join([elements[0], elements[1], bird, elements[2]]) for bird in CFG.scored_birds.keys()]\n",
    "        is_found = [False] * len(CFG.scored_birds)\n",
    "        for found in value:\n",
    "            if found in CFG.scored_birds:\n",
    "                is_found[CFG.scored_birds[found]] = True\n",
    "        one_df = pd.DataFrame({\"row_id\": rows, \"target\": is_found})\n",
    "        dfs.append(one_df)\n",
    "    df = pd.concat(dfs, axis=0, sort=False).reset_index(drop=True)\n",
    "    return df\n",
    "        \n",
    "\n",
    "def prediction(test_audios, weights_path: Path, threshold=0.5):\n",
    "    device = torch.device(\"cuda\" if torch.cuda.is_available() else \"cpu\")\n",
    "    model = Simple(base_model_name=CFG.base_model_name,\n",
    "                    pretrained=False,\n",
    "                    num_classes=CFG.num_classes,\n",
    "                    in_channels=CFG.in_channels)\n",
    "    model = prepare_model_for_inference(model, weights_path).to(device)\n",
    "\n",
    "    warnings.filterwarnings(\"ignore\")\n",
    "    prediction_dfs = []\n",
    "    for audio_path in test_audios:\n",
    "        with timer(f\"Loading {str(audio_path)}\", logger):\n",
    "            clip, _ = sf.read(audio_path)\n",
    "\n",
    "        seconds = []\n",
    "        row_ids = []\n",
    "        for second in range(5, 65, 5):\n",
    "            row_id = \"_\".join(re.split(\"[_.]\", audio_path.name)[:2]) + f\"_{second}\"\n",
    "            seconds.append(second)\n",
    "            row_ids.append(row_id)\n",
    "            \n",
    "        test_df = pd.DataFrame({\n",
    "            \"row_id\": row_ids,\n",
    "            \"seconds\": seconds\n",
    "        })\n",
    "        with timer(f\"Prediction on {audio_path}\", logger):\n",
    "            prediction_dict = prediction_for_clip(test_df,\n",
    "                                                  clip=clip,\n",
    "                                                  model=model,\n",
    "                                                  threshold=threshold)\n",
    "\n",
    "        prediction_df = create_df(prediction_dict)\n",
    "        prediction_dfs.append(prediction_df)\n",
    "    \n",
    "    prediction_df = pd.concat(prediction_dfs, axis=0, sort=False).reset_index(drop=True)\n",
    "    return prediction_df"
   ]
  },
  {
   "cell_type": "code",
   "execution_count": 12,
   "id": "4fb72bca",
   "metadata": {
    "execution": {
     "iopub.execute_input": "2022-04-28T02:49:43.545594Z",
     "iopub.status.busy": "2022-04-28T02:49:43.544884Z",
     "iopub.status.idle": "2022-04-28T02:49:56.902052Z",
     "shell.execute_reply": "2022-04-28T02:49:56.902458Z",
     "shell.execute_reply.started": "2022-04-28T02:47:55.579344Z"
    },
    "papermill": {
     "duration": 13.383385,
     "end_time": "2022-04-28T02:49:56.902599",
     "exception": false,
     "start_time": "2022-04-28T02:49:43.519214",
     "status": "completed"
    },
    "tags": []
   },
   "outputs": [
    {
     "name": "stderr",
     "output_type": "stream",
     "text": [
      "/opt/conda/lib/python3.7/site-packages/torchlibrosa/stft.py:193: FutureWarning: Pass size=2048 as keyword args. From version 0.10 passing these as positional arguments will result in an error\n",
      "  fft_window = librosa.util.pad_center(fft_window, n_fft)\n",
      "2022-04-28 02:49:50,799 - INFO - [Loading ../input/birdclef-2022/test_soundscapes/soundscape_453028782.ogg] start\n",
      "2022-04-28 02:49:50,863 - INFO - [Loading ../input/birdclef-2022/test_soundscapes/soundscape_453028782.ogg] done in 0.06 s\n",
      "2022-04-28 02:49:50,865 - INFO - [Prediction on ../input/birdclef-2022/test_soundscapes/soundscape_453028782.ogg] start\n",
      "100%|██████████| 12/12 [00:05<00:00,  2.01it/s]\n",
      "2022-04-28 02:49:56,860 - INFO - [Prediction on ../input/birdclef-2022/test_soundscapes/soundscape_453028782.ogg] done in 5.99 s\n"
     ]
    },
    {
     "data": {
      "text/plain": [
       "False    173\n",
       "True      79\n",
       "Name: target, dtype: int64"
      ]
     },
     "execution_count": 12,
     "metadata": {},
     "output_type": "execute_result"
    }
   ],
   "source": [
    "threshold = 0.09\n",
    "\n",
    "sample = pd.read_csv('../input/birdclef-2022/sample_submission.csv')\n",
    "DATADIR = Path(\"../input/birdclef-2022/test_soundscapes\")\n",
    "all_audios = list(DATADIR.glob(\"*.ogg\"))\n",
    "weights_path = Path(\"../input/birdclef2022-pth3/exp1.pth\")\n",
    "submission_ = prediction(test_audios=all_audios,\n",
    "                        weights_path=weights_path,\n",
    "                        threshold=threshold)\n",
    "\n",
    "submission = pd.merge(sample['row_id'], submission_, on = 'row_id')\n",
    "submission.to_csv(\"submission.csv\", index=False)\n",
    "submission_.target.value_counts()"
   ]
  },
  {
   "cell_type": "code",
   "execution_count": null,
   "id": "121de8e1",
   "metadata": {
    "papermill": {
     "duration": 0.02362,
     "end_time": "2022-04-28T02:49:56.950397",
     "exception": false,
     "start_time": "2022-04-28T02:49:56.926777",
     "status": "completed"
    },
    "tags": []
   },
   "outputs": [],
   "source": []
  },
  {
   "cell_type": "code",
   "execution_count": null,
   "id": "431a3495",
   "metadata": {
    "papermill": {
     "duration": 0.024821,
     "end_time": "2022-04-28T02:49:56.999013",
     "exception": false,
     "start_time": "2022-04-28T02:49:56.974192",
     "status": "completed"
    },
    "tags": []
   },
   "outputs": [],
   "source": []
  }
 ],
 "metadata": {
  "kernelspec": {
   "display_name": "Python 3",
   "language": "python",
   "name": "python3"
  },
  "language_info": {
   "codemirror_mode": {
    "name": "ipython",
    "version": 3
   },
   "file_extension": ".py",
   "mimetype": "text/x-python",
   "name": "python",
   "nbconvert_exporter": "python",
   "pygments_lexer": "ipython3",
   "version": "3.7.12"
  },
  "papermill": {
   "default_parameters": {},
   "duration": 91.383834,
   "end_time": "2022-04-28T02:49:59.629413",
   "environment_variables": {},
   "exception": null,
   "input_path": "__notebook__.ipynb",
   "output_path": "__notebook__.ipynb",
   "parameters": {},
   "start_time": "2022-04-28T02:48:28.245579",
   "version": "2.3.3"
  }
 },
 "nbformat": 4,
 "nbformat_minor": 5
}
