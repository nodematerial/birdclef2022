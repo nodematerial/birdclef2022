{
 "cells": [
  {
   "cell_type": "code",
   "execution_count": 1,
   "id": "f70af9df",
   "metadata": {
    "execution": {
     "iopub.execute_input": "2022-05-01T05:20:27.368153Z",
     "iopub.status.busy": "2022-05-01T05:20:27.366677Z",
     "iopub.status.idle": "2022-05-01T05:21:28.278098Z",
     "shell.execute_reply": "2022-05-01T05:21:28.277473Z",
     "shell.execute_reply.started": "2022-05-01T05:13:16.536305Z"
    },
    "papermill": {
     "duration": 60.934269,
     "end_time": "2022-05-01T05:21:28.278267",
     "exception": false,
     "start_time": "2022-05-01T05:20:27.343998",
     "status": "completed"
    },
    "tags": []
   },
   "outputs": [
    {
     "name": "stdout",
     "output_type": "stream",
     "text": [
      "Processing ./timm-pytorch-image-models/pytorch-image-models-master\r\n",
      "  Preparing metadata (setup.py) ... \u001b[?25l-\b \bdone\r\n",
      "\u001b[?25hRequirement already satisfied: torch>=1.4 in /opt/conda/lib/python3.7/site-packages (from timm==0.5.4) (1.9.1)\r\n",
      "Requirement already satisfied: torchvision in /opt/conda/lib/python3.7/site-packages (from timm==0.5.4) (0.10.1)\r\n",
      "Requirement already satisfied: typing-extensions in /opt/conda/lib/python3.7/site-packages (from torch>=1.4->timm==0.5.4) (4.1.1)\r\n",
      "Requirement already satisfied: numpy in /opt/conda/lib/python3.7/site-packages (from torchvision->timm==0.5.4) (1.20.3)\r\n",
      "Requirement already satisfied: pillow>=5.3.0 in /opt/conda/lib/python3.7/site-packages (from torchvision->timm==0.5.4) (8.2.0)\r\n",
      "Building wheels for collected packages: timm\r\n",
      "  Building wheel for timm (setup.py) ... \u001b[?25l-\b \b\\\b \b|\b \bdone\r\n",
      "\u001b[?25h  Created wheel for timm: filename=timm-0.5.4-py3-none-any.whl size=431993 sha256=c12089f31e48251f821a4511fa4fabc58b97160ace7dc78220e7a462d19edb77\r\n",
      "  Stored in directory: /root/.cache/pip/wheels/29/8f/83/790cac9d0753c6ccaef1d2cf55fbd2d3617cea79af844a3f88\r\n",
      "Successfully built timm\r\n",
      "Installing collected packages: timm\r\n",
      "Successfully installed timm-0.5.4\r\n",
      "\u001b[33mWARNING: Running pip as the 'root' user can result in broken permissions and conflicting behaviour with the system package manager. It is recommended to use a virtual environment instead: https://pip.pypa.io/warnings/venv\u001b[0m\r\n",
      "Processing ./torchlibrosa/torchlibrosa-0.0.9-py2.py3-none-any.whl\r\n",
      "Requirement already satisfied: librosa>=0.6.0 in /opt/conda/lib/python3.7/site-packages (from torchlibrosa==0.0.9) (0.9.1)\r\n",
      "Requirement already satisfied: numpy in /opt/conda/lib/python3.7/site-packages (from torchlibrosa==0.0.9) (1.20.3)\r\n",
      "Requirement already satisfied: numba>=0.45.1 in /opt/conda/lib/python3.7/site-packages (from librosa>=0.6.0->torchlibrosa==0.0.9) (0.54.1)\r\n",
      "Requirement already satisfied: scipy>=1.2.0 in /opt/conda/lib/python3.7/site-packages (from librosa>=0.6.0->torchlibrosa==0.0.9) (1.7.3)\r\n",
      "Requirement already satisfied: resampy>=0.2.2 in /opt/conda/lib/python3.7/site-packages (from librosa>=0.6.0->torchlibrosa==0.0.9) (0.2.2)\r\n",
      "Requirement already satisfied: joblib>=0.14 in /opt/conda/lib/python3.7/site-packages (from librosa>=0.6.0->torchlibrosa==0.0.9) (1.1.0)\r\n",
      "Requirement already satisfied: pooch>=1.0 in /opt/conda/lib/python3.7/site-packages (from librosa>=0.6.0->torchlibrosa==0.0.9) (1.6.0)\r\n",
      "Requirement already satisfied: packaging>=20.0 in /opt/conda/lib/python3.7/site-packages (from librosa>=0.6.0->torchlibrosa==0.0.9) (21.3)\r\n",
      "Requirement already satisfied: soundfile>=0.10.2 in /opt/conda/lib/python3.7/site-packages (from librosa>=0.6.0->torchlibrosa==0.0.9) (0.10.3.post1)\r\n",
      "Requirement already satisfied: audioread>=2.1.5 in /opt/conda/lib/python3.7/site-packages (from librosa>=0.6.0->torchlibrosa==0.0.9) (2.1.9)\r\n",
      "Requirement already satisfied: decorator>=4.0.10 in /opt/conda/lib/python3.7/site-packages (from librosa>=0.6.0->torchlibrosa==0.0.9) (5.1.0)\r\n",
      "Requirement already satisfied: scikit-learn>=0.19.1 in /opt/conda/lib/python3.7/site-packages (from librosa>=0.6.0->torchlibrosa==0.0.9) (1.0.1)\r\n",
      "Requirement already satisfied: llvmlite<0.38,>=0.37.0rc1 in /opt/conda/lib/python3.7/site-packages (from numba>=0.45.1->librosa>=0.6.0->torchlibrosa==0.0.9) (0.37.0)\r\n",
      "Requirement already satisfied: setuptools in /opt/conda/lib/python3.7/site-packages (from numba>=0.45.1->librosa>=0.6.0->torchlibrosa==0.0.9) (59.5.0)\r\n",
      "Requirement already satisfied: pyparsing!=3.0.5,>=2.0.2 in /opt/conda/lib/python3.7/site-packages (from packaging>=20.0->librosa>=0.6.0->torchlibrosa==0.0.9) (3.0.6)\r\n",
      "Requirement already satisfied: requests>=2.19.0 in /opt/conda/lib/python3.7/site-packages (from pooch>=1.0->librosa>=0.6.0->torchlibrosa==0.0.9) (2.26.0)\r\n",
      "Requirement already satisfied: appdirs>=1.3.0 in /opt/conda/lib/python3.7/site-packages (from pooch>=1.0->librosa>=0.6.0->torchlibrosa==0.0.9) (1.4.4)\r\n",
      "Requirement already satisfied: six>=1.3 in /opt/conda/lib/python3.7/site-packages (from resampy>=0.2.2->librosa>=0.6.0->torchlibrosa==0.0.9) (1.16.0)\r\n",
      "Requirement already satisfied: threadpoolctl>=2.0.0 in /opt/conda/lib/python3.7/site-packages (from scikit-learn>=0.19.1->librosa>=0.6.0->torchlibrosa==0.0.9) (3.0.0)\r\n",
      "Requirement already satisfied: cffi>=1.0 in /opt/conda/lib/python3.7/site-packages (from soundfile>=0.10.2->librosa>=0.6.0->torchlibrosa==0.0.9) (1.15.0)\r\n",
      "Requirement already satisfied: pycparser in /opt/conda/lib/python3.7/site-packages (from cffi>=1.0->soundfile>=0.10.2->librosa>=0.6.0->torchlibrosa==0.0.9) (2.21)\r\n",
      "Requirement already satisfied: urllib3<1.27,>=1.21.1 in /opt/conda/lib/python3.7/site-packages (from requests>=2.19.0->pooch>=1.0->librosa>=0.6.0->torchlibrosa==0.0.9) (1.26.7)\r\n",
      "Requirement already satisfied: idna<4,>=2.5 in /opt/conda/lib/python3.7/site-packages (from requests>=2.19.0->pooch>=1.0->librosa>=0.6.0->torchlibrosa==0.0.9) (3.1)\r\n",
      "Requirement already satisfied: certifi>=2017.4.17 in /opt/conda/lib/python3.7/site-packages (from requests>=2.19.0->pooch>=1.0->librosa>=0.6.0->torchlibrosa==0.0.9) (2021.10.8)\r\n",
      "Requirement already satisfied: charset-normalizer~=2.0.0 in /opt/conda/lib/python3.7/site-packages (from requests>=2.19.0->pooch>=1.0->librosa>=0.6.0->torchlibrosa==0.0.9) (2.0.9)\r\n",
      "Installing collected packages: torchlibrosa\r\n",
      "Successfully installed torchlibrosa-0.0.9\r\n",
      "\u001b[33mWARNING: Running pip as the 'root' user can result in broken permissions and conflicting behaviour with the system package manager. It is recommended to use a virtual environment instead: https://pip.pypa.io/warnings/venv\u001b[0m\r\n"
     ]
    }
   ],
   "source": [
    "!cp -r ../input/timm-pytorch-image-models /kaggle/working/\n",
    "!pip install /kaggle/working/timm-pytorch-image-models/pytorch-image-models-master/\n",
    "!cp -r ../input/torchlibrosa /kaggle/working/\n",
    "!pip install /kaggle/working/torchlibrosa/torchlibrosa-0.0.9-py2.py3-none-any.whl"
   ]
  },
  {
   "cell_type": "code",
   "execution_count": 2,
   "id": "5fbefd88",
   "metadata": {
    "_cell_guid": "b1076dfc-b9ad-4769-8c92-a6c4dae69d19",
    "_uuid": "8f2839f25d086af736a60e9eeb907d3b93b6e0e5",
    "execution": {
     "iopub.execute_input": "2022-05-01T05:21:28.332396Z",
     "iopub.status.busy": "2022-05-01T05:21:28.331629Z",
     "iopub.status.idle": "2022-05-01T05:21:33.637768Z",
     "shell.execute_reply": "2022-05-01T05:21:33.636950Z",
     "shell.execute_reply.started": "2022-05-01T05:14:18.390924Z"
    },
    "papermill": {
     "duration": 5.334941,
     "end_time": "2022-05-01T05:21:33.637982",
     "exception": false,
     "start_time": "2022-05-01T05:21:28.303041",
     "status": "completed"
    },
    "tags": []
   },
   "outputs": [],
   "source": [
    "import re\n",
    "import cv2\n",
    "import audioread\n",
    "import logging\n",
    "import os\n",
    "import random\n",
    "import time\n",
    "import warnings\n",
    "\n",
    "import librosa\n",
    "import numpy as np\n",
    "import pandas as pd\n",
    "import soundfile as sf\n",
    "import timm\n",
    "import torch\n",
    "import torch.nn as nn\n",
    "import torch.nn.functional as F\n",
    "import torch.utils.data as torchdata\n",
    "\n",
    "from contextlib import contextmanager\n",
    "from pathlib import Path\n",
    "from typing import Optional\n",
    "\n",
    "from albumentations.core.transforms_interface import ImageOnlyTransform\n",
    "from torchlibrosa.stft import LogmelFilterBank, Spectrogram\n",
    "from torchlibrosa.augmentation import SpecAugmentation\n",
    "from tqdm import tqdm"
   ]
  },
  {
   "cell_type": "code",
   "execution_count": 3,
   "id": "3037e589",
   "metadata": {
    "execution": {
     "iopub.execute_input": "2022-05-01T05:21:33.692354Z",
     "iopub.status.busy": "2022-05-01T05:21:33.691764Z",
     "iopub.status.idle": "2022-05-01T05:21:33.695549Z",
     "shell.execute_reply": "2022-05-01T05:21:33.695087Z",
     "shell.execute_reply.started": "2022-05-01T05:14:23.682594Z"
    },
    "papermill": {
     "duration": 0.035397,
     "end_time": "2022-05-01T05:21:33.695652",
     "exception": false,
     "start_time": "2022-05-01T05:21:33.660255",
     "status": "completed"
    },
    "tags": []
   },
   "outputs": [],
   "source": [
    "def set_seed(seed: int = 42):\n",
    "    random.seed(seed)\n",
    "    np.random.seed(seed)\n",
    "    os.environ[\"PYTHONHASHSEED\"] = str(seed)\n",
    "    torch.manual_seed(seed)\n",
    "    torch.cuda.manual_seed(seed)  # type: ignore\n",
    "    torch.backends.cudnn.deterministic = True  # type: ignore\n",
    "    torch.backends.cudnn.benchmark = True  # type: ignore\n",
    "    \n",
    "    \n",
    "def get_logger(out_file=None):\n",
    "    logger = logging.getLogger()\n",
    "    formatter = logging.Formatter(\"%(asctime)s - %(levelname)s - %(message)s\")\n",
    "    logger.handlers = []\n",
    "    logger.setLevel(logging.INFO)\n",
    "\n",
    "    handler = logging.StreamHandler()\n",
    "    handler.setFormatter(formatter)\n",
    "    handler.setLevel(logging.INFO)\n",
    "    logger.addHandler(handler)\n",
    "\n",
    "    if out_file is not None:\n",
    "        fh = logging.FileHandler(out_file)\n",
    "        fh.setFormatter(formatter)\n",
    "        fh.setLevel(logging.INFO)\n",
    "        logger.addHandler(fh)\n",
    "    logger.info(\"logger set up\")\n",
    "    return logger\n",
    "    \n",
    "    \n",
    "@contextmanager\n",
    "def timer(name: str, logger: Optional[logging.Logger] = None):\n",
    "    t0 = time.time()\n",
    "    msg = f\"[{name}] start\"\n",
    "    if logger is None:\n",
    "        print(msg)\n",
    "    else:\n",
    "        logger.info(msg)\n",
    "    yield\n",
    "\n",
    "    msg = f\"[{name}] done in {time.time() - t0:.2f} s\"\n",
    "    if logger is None:\n",
    "        print(msg)\n",
    "    else:\n",
    "        logger.info(msg)"
   ]
  },
  {
   "cell_type": "code",
   "execution_count": 4,
   "id": "f6aeeebb",
   "metadata": {
    "execution": {
     "iopub.execute_input": "2022-05-01T05:21:33.744411Z",
     "iopub.status.busy": "2022-05-01T05:21:33.743757Z",
     "iopub.status.idle": "2022-05-01T05:21:33.749368Z",
     "shell.execute_reply": "2022-05-01T05:21:33.749773Z",
     "shell.execute_reply.started": "2022-05-01T05:14:23.698662Z"
    },
    "papermill": {
     "duration": 0.032407,
     "end_time": "2022-05-01T05:21:33.749949",
     "exception": false,
     "start_time": "2022-05-01T05:21:33.717542",
     "status": "completed"
    },
    "tags": []
   },
   "outputs": [
    {
     "name": "stderr",
     "output_type": "stream",
     "text": [
      "2022-05-01 05:21:33,741 - INFO - logger set up\n"
     ]
    }
   ],
   "source": [
    "logger = get_logger(\"main.log\")\n",
    "set_seed(1213)"
   ]
  },
  {
   "cell_type": "markdown",
   "id": "afc29611",
   "metadata": {
    "papermill": {
     "duration": 0.024058,
     "end_time": "2022-05-01T05:21:33.799108",
     "exception": false,
     "start_time": "2022-05-01T05:21:33.775050",
     "status": "completed"
    },
    "tags": []
   },
   "source": [
    "## Config"
   ]
  },
  {
   "cell_type": "code",
   "execution_count": 5,
   "id": "9ff10f9c",
   "metadata": {
    "execution": {
     "iopub.execute_input": "2022-05-01T05:21:33.856965Z",
     "iopub.status.busy": "2022-05-01T05:21:33.850917Z",
     "iopub.status.idle": "2022-05-01T05:21:33.860138Z",
     "shell.execute_reply": "2022-05-01T05:21:33.859386Z",
     "shell.execute_reply.started": "2022-05-01T05:14:23.711656Z"
    },
    "papermill": {
     "duration": 0.039073,
     "end_time": "2022-05-01T05:21:33.860247",
     "exception": false,
     "start_time": "2022-05-01T05:21:33.821174",
     "status": "completed"
    },
    "tags": []
   },
   "outputs": [],
   "source": [
    "class CFG:\n",
    "    ######################\n",
    "    # Dataset #\n",
    "    ######################\n",
    "    transforms = {\n",
    "        \"test\": [{\"name\": \"Normalize\"}]\n",
    "    }\n",
    "    period = 20\n",
    "    n_mels = 128\n",
    "    fmin = 20\n",
    "    fmax = 16000\n",
    "    n_fft = 2048\n",
    "    hop_length = 512\n",
    "    sample_rate = 32000\n",
    "    melspectrogram_parameters = {\n",
    "        \"n_mels\": 224,\n",
    "        \"fmin\": 2000,\n",
    "        \"fmax\": 16000\n",
    "    }\n",
    "\n",
    "    target_columns = [\n",
    "        \"afrsil1\",\"akekee\",\"akepa1\",\"akiapo\",\"akikik\",\"amewig\",\"aniani\",\"apapan\",\n",
    "        \"arcter\",\"barpet\",\"bcnher\",\"belkin1\",\"bkbplo\",\"bknsti\",\"bkwpet\",\"blkfra\",\n",
    "        \"blknod\",\"bongul\",\"brant\",\"brnboo\",\"brnnod\",\"brnowl\",\"brtcur\",\"bubsan\",\n",
    "        \"buffle\",\"bulpet\",\"burpar\",\"buwtea\",\"cacgoo1\",\"calqua\",\"cangoo\",\"canvas\",\n",
    "        \"caster1\",\"categr\",\"chbsan\",\"chemun\",\"chukar\",\"cintea\",\"comgal1\",\"commyn\",\n",
    "        \"compea\",\"comsan\",\"comwax\",\"coopet\",\"crehon\",\"dunlin\",\"elepai\",\"ercfra\",\n",
    "        \"eurwig\",\"fragul\",\"gadwal\",\"gamqua\",\"glwgul\",\"gnwtea\",\"golphe\",\"grbher3\",\n",
    "        \"grefri\",\"gresca\",\"gryfra\",\"gwfgoo\",\"hawama\",\"hawcoo\",\"hawcre\",\"hawgoo\",\n",
    "        \"hawhaw\",\"hawpet1\",\"hoomer\",\"houfin\",\"houspa\",\"hudgod\",\"iiwi\",\"incter1\",\n",
    "        \"jabwar\",\"japqua\",\"kalphe\",\"kauama\",\"laugul\",\"layalb\",\"lcspet\",\"leasan\",\n",
    "        \"leater1\",\"lessca\",\"lesyel\",\"lobdow\",\"lotjae\",\"madpet\",\"magpet1\",\"mallar3\",\n",
    "        \"masboo\",\"mauala\",\"maupar\",\"merlin\",\"mitpar\",\"moudov\",\"norcar\",\"norhar2\",\n",
    "        \"normoc\",\"norpin\",\"norsho\",\"nutman\",\"oahama\",\"omao\",\"osprey\",\"pagplo\",\n",
    "        \"palila\",\"parjae\",\"pecsan\",\"peflov\",\"perfal\",\"pibgre\",\"pomjae\",\"puaioh\",\n",
    "        \"reccar\",\"redava\",\"redjun\",\"redpha1\",\"refboo\",\"rempar\",\"rettro\",\"ribgul\",\n",
    "        \"rinduc\",\"rinphe\",\"rocpig\",\"rorpar\",\"rudtur\",\"ruff\",\"saffin\",\"sander\",\n",
    "        \"semplo\",\"sheowl\",\"shtsan\",\"skylar\",\"snogoo\",\"sooshe\",\"sooter1\",\"sopsku1\",\n",
    "        \"sora\",\"spodov\",\"sposan\",\"towsol\",\"wantat1\",\"warwhe1\",\"wesmea\",\"wessan\",\n",
    "        \"wetshe\",\"whfibi\",\"whiter\",\"whttro\",\"wiltur\",\"yebcar\",\"yefcan\",\"zebdov\",\n",
    "    ] \n",
    "\n",
    "    scored_birds =  {\"akiapo\" : 0, \"aniani\" : 1, \"apapan\" : 2, \"barpet\" : 3, \"crehon\" : 4,\n",
    "                    \"elepai\" : 5, \"ercfra\" : 6, \"hawama\" : 7, \"hawcre\": 8, \"hawgoo\" : 9, \n",
    "                    \"hawhaw\" : 10, \"hawpet1\" : 11, \"houfin\" : 12, \"iiwi\" :13, \"jabwar\" : 14,\n",
    "                    \"maupar\" : 15, \"omao\" : 16, \"puaioh\" : 17, \"skylar\" : 18, \"warwhe1\" : 19, \"yefcan\" : 20}\n",
    "\n",
    "\n",
    "    loader_params = {\n",
    "        \"test\": {\n",
    "            \"batch_size\": 64,\n",
    "            \"num_workers\": 20,\n",
    "            \"shuffle\": False\n",
    "        }\n",
    "    }\n",
    "\n",
    "    pooling = \"max\"\n",
    "    pretrained = True\n",
    "    num_classes = 152\n",
    "    in_channels = 1\n"
   ]
  },
  {
   "cell_type": "markdown",
   "id": "9ac07d88",
   "metadata": {
    "papermill": {
     "duration": 0.021943,
     "end_time": "2022-05-01T05:21:33.904474",
     "exception": false,
     "start_time": "2022-05-01T05:21:33.882531",
     "status": "completed"
    },
    "tags": []
   },
   "source": [
    "## Define Model"
   ]
  },
  {
   "cell_type": "code",
   "execution_count": 6,
   "id": "f3dc82e2",
   "metadata": {
    "execution": {
     "iopub.execute_input": "2022-05-01T05:21:33.971180Z",
     "iopub.status.busy": "2022-05-01T05:21:33.961268Z",
     "iopub.status.idle": "2022-05-01T05:21:33.973450Z",
     "shell.execute_reply": "2022-05-01T05:21:33.973044Z",
     "shell.execute_reply.started": "2022-05-01T05:14:23.730246Z"
    },
    "papermill": {
     "duration": 0.046969,
     "end_time": "2022-05-01T05:21:33.973555",
     "exception": false,
     "start_time": "2022-05-01T05:21:33.926586",
     "status": "completed"
    },
    "tags": []
   },
   "outputs": [],
   "source": [
    "def init_layer(layer):\n",
    "    nn.init.xavier_uniform_(layer.weight)\n",
    "\n",
    "    if hasattr(layer, \"bias\"):\n",
    "        if layer.bias is not None:\n",
    "            layer.bias.data.fill_(0.)\n",
    "\n",
    "\n",
    "def init_bn(bn):\n",
    "    bn.bias.data.fill_(0.)\n",
    "    bn.weight.data.fill_(1.0)\n",
    "\n",
    "\n",
    "def init_weights(model):\n",
    "    classname = model.__class__.__name__\n",
    "    if classname.find(\"Conv2d\") != -1:\n",
    "        nn.init.xavier_uniform_(model.weight, gain=np.sqrt(2))\n",
    "        model.bias.data.fill_(0)\n",
    "    elif classname.find(\"BatchNorm\") != -1:\n",
    "        model.weight.data.normal_(1.0, 0.02)\n",
    "        model.bias.data.fill_(0)\n",
    "    elif classname.find(\"GRU\") != -1:\n",
    "        for weight in model.parameters():\n",
    "            if len(weight.size()) > 1:\n",
    "                nn.init.orghogonal_(weight.data)\n",
    "    elif classname.find(\"Linear\") != -1:\n",
    "        model.weight.data.normal_(0, 0.01)\n",
    "        model.bias.data.zero_()\n",
    "\n",
    "\n",
    "class GeM(nn.Module):\n",
    "    def __init__(self, p=3, eps=1e-6):\n",
    "        super(GeM, self).__init__()\n",
    "        self.p = nn.Parameter(torch.ones(1)*p)\n",
    "        self.eps = eps\n",
    "\n",
    "    def forward(self, x):\n",
    "        return self.gem(x, p=self.p, eps=self.eps)\n",
    "        \n",
    "    def gem(self, x, p=3, eps=1e-6):\n",
    "        return F.avg_pool2d(x.clamp(min=eps).pow(p), (x.size(-2), x.size(-1))).pow(1./p)\n",
    "\n",
    "\n",
    "class Simple(nn.Module):\n",
    "    def __init__(self, base_model_name: str, pretrained=False, num_classes=152, in_channels=1):\n",
    "        super().__init__()\n",
    "        # Spectrogram extractor\n",
    "        self.spectrogram_extractor = Spectrogram(n_fft=CFG.n_fft, hop_length=CFG.hop_length,\n",
    "                                                 win_length=CFG.n_fft, window=\"hann\", center=True, pad_mode=\"reflect\",\n",
    "                                                 freeze_parameters=True)\n",
    "\n",
    "        # Logmel feature extractor\n",
    "        self.logmel_extractor = LogmelFilterBank(sr=CFG.sample_rate, n_fft=CFG.n_fft,\n",
    "                                                 n_mels=CFG.n_mels, fmin=CFG.fmin, fmax=CFG.fmax, ref=1.0, amin=1e-10, top_db=None,\n",
    "                                                 freeze_parameters=True)\n",
    "\n",
    "        # Spec augmenter\n",
    "        self.spec_augmenter = SpecAugmentation(time_drop_width=64, time_stripes_num=2,\n",
    "                                               freq_drop_width=8, freq_stripes_num=2)\n",
    "\n",
    "\n",
    "        self.bn0 = nn.BatchNorm2d(CFG.n_mels)\n",
    "\n",
    "        base_model = timm.create_model(\n",
    "            base_model_name, pretrained=pretrained, in_chans=in_channels)\n",
    "        layers = list(base_model.children())[:-2]\n",
    "        self.encoder = nn.Sequential(*layers)\n",
    "\n",
    "        if hasattr(base_model, \"fc\"):\n",
    "            in_features = base_model.fc.in_features\n",
    "        else:\n",
    "            in_features = base_model.classifier.in_features\n",
    "        self.fc1 = nn.Linear(in_features, num_classes, bias=True)\n",
    "        self.gem = GeM()\n",
    "        self.init_weight()\n",
    "\n",
    "    def init_weight(self):\n",
    "        init_layer(self.fc1)\n",
    "        init_bn(self.bn0)\n",
    "\n",
    "    def forward(self, input):\n",
    "        # (batch_size, 1, time_steps, freq_bins)\n",
    "        x = self.spectrogram_extractor(input)\n",
    "        x = self.logmel_extractor(x)    # (batch_size, 1, time_steps, mel_bins)\n",
    "\n",
    "        x = x.transpose(1, 3)\n",
    "        x = self.bn0(x)\n",
    "        x = x.transpose(1, 3)\n",
    "\n",
    "        if self.training:\n",
    "            x = self.spec_augmenter(x)\n",
    "\n",
    "        x = x.transpose(2, 3)\n",
    "        # (batch_size, channels, freq, frames)\n",
    "        x = self.encoder(x)\n",
    "\n",
    "        # (batch_size, channels)\n",
    "        x = torch.squeeze(self.gem(x))\n",
    "        x = F.dropout(x, p=0.5, training=self.training)\n",
    "        logit = self.fc1(x)\n",
    "\n",
    "        return logit"
   ]
  },
  {
   "cell_type": "markdown",
   "id": "aa7d8b58",
   "metadata": {
    "papermill": {
     "duration": 0.023606,
     "end_time": "2022-05-01T05:21:34.020027",
     "exception": false,
     "start_time": "2022-05-01T05:21:33.996421",
     "status": "completed"
    },
    "tags": []
   },
   "source": [
    "## Dataset"
   ]
  },
  {
   "cell_type": "code",
   "execution_count": 7,
   "id": "15d86171",
   "metadata": {
    "execution": {
     "iopub.execute_input": "2022-05-01T05:21:34.073470Z",
     "iopub.status.busy": "2022-05-01T05:21:34.071969Z",
     "iopub.status.idle": "2022-05-01T05:21:34.074109Z",
     "shell.execute_reply": "2022-05-01T05:21:34.074512Z",
     "shell.execute_reply.started": "2022-05-01T05:14:23.759601Z"
    },
    "papermill": {
     "duration": 0.032281,
     "end_time": "2022-05-01T05:21:34.074648",
     "exception": false,
     "start_time": "2022-05-01T05:21:34.042367",
     "status": "completed"
    },
    "tags": []
   },
   "outputs": [],
   "source": [
    "class TestDataset(torchdata.Dataset):\n",
    "    def __init__(self, df: pd.DataFrame, clip: np.ndarray,\n",
    "                 waveform_transforms=None):\n",
    "        self.df = df\n",
    "        self.clip = clip\n",
    "        self.waveform_transforms=waveform_transforms\n",
    "        \n",
    "    def __len__(self):\n",
    "        return len(self.df)\n",
    "    \n",
    "    def __getitem__(self, idx: int):\n",
    "        SR = 32000\n",
    "        sample = self.df.loc[idx, :]\n",
    "        row_id = sample.row_id\n",
    "\n",
    "        end_seconds = int(sample.seconds)\n",
    "        start_seconds = int(end_seconds - 5)\n",
    "\n",
    "        start_index = SR * start_seconds\n",
    "        end_index = SR * end_seconds\n",
    "\n",
    "        y = self.clip[start_index:end_index].astype(np.float32)\n",
    "\n",
    "        y = np.nan_to_num(y)\n",
    "\n",
    "        if self.waveform_transforms:\n",
    "            y = self.waveform_transforms(y)\n",
    "\n",
    "        y = np.nan_to_num(y)\n",
    "\n",
    "        return y, row_id"
   ]
  },
  {
   "cell_type": "code",
   "execution_count": 8,
   "id": "08070956",
   "metadata": {
    "execution": {
     "iopub.execute_input": "2022-05-01T05:21:34.134026Z",
     "iopub.status.busy": "2022-05-01T05:21:34.133246Z",
     "iopub.status.idle": "2022-05-01T05:21:34.135252Z",
     "shell.execute_reply": "2022-05-01T05:21:34.135665Z",
     "shell.execute_reply.started": "2022-05-01T05:14:23.771576Z"
    },
    "papermill": {
     "duration": 0.038464,
     "end_time": "2022-05-01T05:21:34.135780",
     "exception": false,
     "start_time": "2022-05-01T05:21:34.097316",
     "status": "completed"
    },
    "tags": []
   },
   "outputs": [],
   "source": [
    "def get_transforms(phase: str):\n",
    "    transforms = CFG.transforms\n",
    "    if transforms is None:\n",
    "        return None\n",
    "    else:\n",
    "        if transforms[phase] is None:\n",
    "            return None\n",
    "        trns_list = []\n",
    "        for trns_conf in transforms[phase]:\n",
    "            trns_name = trns_conf[\"name\"]\n",
    "            trns_params = {} if trns_conf.get(\"params\") is None else \\\n",
    "                trns_conf[\"params\"]\n",
    "            if globals().get(trns_name) is not None:\n",
    "                trns_cls = globals()[trns_name]\n",
    "                trns_list.append(trns_cls(**trns_params))\n",
    "\n",
    "        if len(trns_list) > 0:\n",
    "            return Compose(trns_list)\n",
    "        else:\n",
    "            return None\n",
    "\n",
    "\n",
    "def get_waveform_transforms(config: dict, phase: str):\n",
    "    return get_transforms(config, phase)\n",
    "\n",
    "\n",
    "def get_spectrogram_transforms(config: dict, phase: str):\n",
    "    transforms = config.get('spectrogram_transforms')\n",
    "    if transforms is None:\n",
    "        return None\n",
    "    else:\n",
    "        if transforms[phase] is None:\n",
    "            return None\n",
    "        trns_list = []\n",
    "        for trns_conf in transforms[phase]:\n",
    "            trns_name = trns_conf[\"name\"]\n",
    "            trns_params = {} if trns_conf.get(\"params\") is None else \\\n",
    "                trns_conf[\"params\"]\n",
    "            if hasattr(A, trns_name):\n",
    "                trns_cls = A.__getattribute__(trns_name)\n",
    "                trns_list.append(trns_cls(**trns_params))\n",
    "            else:\n",
    "                trns_cls = globals().get(trns_name)\n",
    "                if trns_cls is not None:\n",
    "                    trns_list.append(trns_cls(**trns_params))\n",
    "\n",
    "        if len(trns_list) > 0:\n",
    "            return A.Compose(trns_list, p=1.0)\n",
    "        else:\n",
    "            return None\n",
    "\n",
    "\n",
    "class Normalize:\n",
    "    def __call__(self, y: np.ndarray):\n",
    "        max_vol = np.abs(y).max()\n",
    "        y_vol = y * 1 / max_vol\n",
    "        return np.asfortranarray(y_vol)\n",
    "\n",
    "\n",
    "class NewNormalize:\n",
    "    def __call__(self, y: np.ndarray):\n",
    "        y_mm = y - y.mean()\n",
    "        return y_mm / y_mm.abs().max()\n",
    "\n",
    "\n",
    "class Compose:\n",
    "    def __init__(self, transforms: list):\n",
    "        self.transforms = transforms\n",
    "\n",
    "    def __call__(self, y: np.ndarray):\n",
    "        for trns in self.transforms:\n",
    "            y = trns(y)\n",
    "        return y"
   ]
  },
  {
   "cell_type": "markdown",
   "id": "ff162890",
   "metadata": {
    "papermill": {
     "duration": 0.023299,
     "end_time": "2022-05-01T05:21:34.182721",
     "exception": false,
     "start_time": "2022-05-01T05:21:34.159422",
     "status": "completed"
    },
    "tags": []
   },
   "source": [
    "## Get model"
   ]
  },
  {
   "cell_type": "code",
   "execution_count": 9,
   "id": "078878fb",
   "metadata": {
    "execution": {
     "iopub.execute_input": "2022-05-01T05:21:34.247119Z",
     "iopub.status.busy": "2022-05-01T05:21:34.246290Z",
     "iopub.status.idle": "2022-05-01T05:21:34.247892Z",
     "shell.execute_reply": "2022-05-01T05:21:34.248472Z",
     "shell.execute_reply.started": "2022-05-01T05:14:23.790475Z"
    },
    "papermill": {
     "duration": 0.043101,
     "end_time": "2022-05-01T05:21:34.248667",
     "exception": false,
     "start_time": "2022-05-01T05:21:34.205566",
     "status": "completed"
    },
    "tags": []
   },
   "outputs": [],
   "source": [
    "def prepare_model_for_inference(model, path: Path):\n",
    "    if not torch.cuda.is_available():\n",
    "        ckpt = torch.load(path, map_location=\"cpu\")\n",
    "    else:\n",
    "        ckpt = torch.load(path)\n",
    "    model.load_state_dict(ckpt)\n",
    "    model.eval()\n",
    "    return model"
   ]
  },
  {
   "cell_type": "code",
   "execution_count": 10,
   "id": "87e1fa5c",
   "metadata": {
    "execution": {
     "iopub.execute_input": "2022-05-01T05:21:34.349368Z",
     "iopub.status.busy": "2022-05-01T05:21:34.348455Z",
     "iopub.status.idle": "2022-05-01T05:21:34.354535Z",
     "shell.execute_reply": "2022-05-01T05:21:34.356391Z",
     "shell.execute_reply.started": "2022-05-01T05:14:23.802971Z"
    },
    "papermill": {
     "duration": 0.061872,
     "end_time": "2022-05-01T05:21:34.356600",
     "exception": false,
     "start_time": "2022-05-01T05:21:34.294728",
     "status": "completed"
    },
    "tags": []
   },
   "outputs": [],
   "source": [
    "def prediction_for_clip(test_df: pd.DataFrame, \n",
    "                        clip: np.ndarray, \n",
    "                        model, \n",
    "                        threshold=0.5):\n",
    "\n",
    "    dataset = TestDataset(df=test_df, \n",
    "                          clip=clip,\n",
    "                          waveform_transforms=get_transforms(phase=\"test\"))\n",
    "    loader = torchdata.DataLoader(dataset, batch_size=1, shuffle=False)\n",
    "    device = torch.device(\"cuda\" if torch.cuda.is_available() else \"cpu\")\n",
    "    \n",
    "    model.eval()\n",
    "    prediction_dict = {}\n",
    "    for image, row_id in tqdm(loader):\n",
    "        row_id = row_id[0]\n",
    "        image = image.to(device)\n",
    "\n",
    "        with torch.no_grad():\n",
    "            prediction = model(image)\n",
    "            proba = torch.sigmoid(prediction).detach().cpu().numpy().reshape(-1)\n",
    "\n",
    "        events = proba >= threshold\n",
    "        labels = np.argwhere(events).reshape(-1).tolist()\n",
    "\n",
    "        if len(labels) == 0:\n",
    "            prediction_dict[row_id] = []\n",
    "        else:\n",
    "            labels_list = list(map(lambda x: CFG.target_columns[x], labels))\n",
    "            prediction_dict[row_id] = labels_list\n",
    "    return prediction_dict"
   ]
  },
  {
   "cell_type": "code",
   "execution_count": 11,
   "id": "2a332e4b",
   "metadata": {
    "execution": {
     "iopub.execute_input": "2022-05-01T05:21:34.461201Z",
     "iopub.status.busy": "2022-05-01T05:21:34.460401Z",
     "iopub.status.idle": "2022-05-01T05:21:34.471785Z",
     "shell.execute_reply": "2022-05-01T05:21:34.472318Z",
     "shell.execute_reply.started": "2022-05-01T05:15:22.962734Z"
    },
    "papermill": {
     "duration": 0.066611,
     "end_time": "2022-05-01T05:21:34.472447",
     "exception": false,
     "start_time": "2022-05-01T05:21:34.405836",
     "status": "completed"
    },
    "tags": []
   },
   "outputs": [],
   "source": [
    "def create_df(prediction_dict : dict):\n",
    "    dfs = []\n",
    "    for key, value in prediction_dict.items():\n",
    "        elements = key.split(\"_\")\n",
    "        rows = [\"_\".join([elements[0], elements[1], bird, elements[2]]) for bird in CFG.scored_birds.keys()]\n",
    "        is_found = [False] * len(CFG.scored_birds)\n",
    "        for found in value:\n",
    "            if found in CFG.scored_birds:\n",
    "                is_found[CFG.scored_birds[found]] = True\n",
    "        one_df = pd.DataFrame({\"row_id\": rows, \"target\": is_found})\n",
    "        dfs.append(one_df)\n",
    "    df = pd.concat(dfs, axis=0, sort=False).reset_index(drop=True)\n",
    "    return df\n",
    "        \n",
    "\n",
    "def prediction(test_audios, weights_path: Path, base_model, threshold=0.5):\n",
    "    device = torch.device(\"cuda\" if torch.cuda.is_available() else \"cpu\")\n",
    "    model = Simple(base_model_name=base_model,\n",
    "                    pretrained=False,\n",
    "                    num_classes=CFG.num_classes,\n",
    "                    in_channels=CFG.in_channels)\n",
    "    model = prepare_model_for_inference(model, weights_path).to(device)\n",
    "\n",
    "    warnings.filterwarnings(\"ignore\")\n",
    "    prediction_dfs = []\n",
    "    for audio_path in test_audios:\n",
    "        with timer(f\"Loading {str(audio_path)}\", logger):\n",
    "            clip, _ = sf.read(audio_path)\n",
    "\n",
    "        seconds = []\n",
    "        row_ids = []\n",
    "        for second in range(5, 65, 5):\n",
    "            row_id = \"_\".join(re.split(\"[_.]\", audio_path.name)[:2]) + f\"_{second}\"\n",
    "            seconds.append(second)\n",
    "            row_ids.append(row_id)\n",
    "            \n",
    "        test_df = pd.DataFrame({\n",
    "            \"row_id\": row_ids,\n",
    "            \"seconds\": seconds\n",
    "        })\n",
    "        with timer(f\"Prediction on {audio_path}\", logger):\n",
    "            prediction_dict = prediction_for_clip(test_df,\n",
    "                                                  clip=clip,\n",
    "                                                  model=model,\n",
    "                                                  threshold=threshold)\n",
    "\n",
    "        prediction_df = create_df(prediction_dict)\n",
    "        prediction_dfs.append(prediction_df)\n",
    "    \n",
    "    prediction_df = pd.concat(prediction_dfs, axis=0, sort=False).reset_index(drop=True)\n",
    "    return prediction_df"
   ]
  },
  {
   "cell_type": "code",
   "execution_count": 12,
   "id": "3f74b7fb",
   "metadata": {
    "execution": {
     "iopub.execute_input": "2022-05-01T05:21:34.549205Z",
     "iopub.status.busy": "2022-05-01T05:21:34.548378Z",
     "iopub.status.idle": "2022-05-01T05:21:34.550656Z",
     "shell.execute_reply": "2022-05-01T05:21:34.551251Z",
     "shell.execute_reply.started": "2022-05-01T05:15:23.685114Z"
    },
    "papermill": {
     "duration": 0.043349,
     "end_time": "2022-05-01T05:21:34.551424",
     "exception": false,
     "start_time": "2022-05-01T05:21:34.508075",
     "status": "completed"
    },
    "tags": []
   },
   "outputs": [],
   "source": [
    "exp1 = Path('../input/birdclef2022-pth3/exp1.pth')\n",
    "exp2 = Path('../input/birdclef2022-pth3/exp5.pth')"
   ]
  },
  {
   "cell_type": "code",
   "execution_count": 13,
   "id": "dcde7484",
   "metadata": {
    "execution": {
     "iopub.execute_input": "2022-05-01T05:21:34.632392Z",
     "iopub.status.busy": "2022-05-01T05:21:34.631626Z",
     "iopub.status.idle": "2022-05-01T05:21:51.125934Z",
     "shell.execute_reply": "2022-05-01T05:21:51.125380Z",
     "shell.execute_reply.started": "2022-05-01T05:17:51.745384Z"
    },
    "papermill": {
     "duration": 16.538439,
     "end_time": "2022-05-01T05:21:51.126080",
     "exception": false,
     "start_time": "2022-05-01T05:21:34.587641",
     "status": "completed"
    },
    "tags": []
   },
   "outputs": [
    {
     "name": "stderr",
     "output_type": "stream",
     "text": [
      "/opt/conda/lib/python3.7/site-packages/torchlibrosa/stft.py:193: FutureWarning: Pass size=2048 as keyword args. From version 0.10 passing these as positional arguments will result in an error\n",
      "  fft_window = librosa.util.pad_center(fft_window, n_fft)\n",
      "2022-05-01 05:21:41,799 - INFO - [Loading ../input/birdclef-2022/test_soundscapes/soundscape_453028782.ogg] start\n",
      "2022-05-01 05:21:41,874 - INFO - [Loading ../input/birdclef-2022/test_soundscapes/soundscape_453028782.ogg] done in 0.07 s\n",
      "2022-05-01 05:21:41,876 - INFO - [Prediction on ../input/birdclef-2022/test_soundscapes/soundscape_453028782.ogg] start\n",
      "100%|██████████| 12/12 [00:05<00:00,  2.04it/s]\n",
      "2022-05-01 05:21:47,781 - INFO - [Prediction on ../input/birdclef-2022/test_soundscapes/soundscape_453028782.ogg] done in 5.90 s\n",
      "2022-05-01 05:21:50,832 - INFO - [Loading ../input/birdclef-2022/test_soundscapes/soundscape_453028782.ogg] start\n",
      "2022-05-01 05:21:50,886 - INFO - [Loading ../input/birdclef-2022/test_soundscapes/soundscape_453028782.ogg] done in 0.05 s\n",
      "2022-05-01 05:21:50,887 - INFO - [Prediction on ../input/birdclef-2022/test_soundscapes/soundscape_453028782.ogg] start\n",
      "100%|██████████| 12/12 [00:00<00:00, 60.88it/s]\n",
      "2022-05-01 05:21:51,090 - INFO - [Prediction on ../input/birdclef-2022/test_soundscapes/soundscape_453028782.ogg] done in 0.20 s\n"
     ]
    }
   ],
   "source": [
    "sample = pd.read_csv('../input/birdclef-2022/sample_submission.csv')\n",
    "DATADIR = Path(\"../input/birdclef-2022/test_soundscapes\")\n",
    "all_audios = list(DATADIR.glob(\"*.ogg\"))\n",
    "\n",
    "pred1 = prediction(test_audios=all_audios, weights_path=exp1, threshold=0.09, base_model = 'resnet101d')\n",
    "pred2 = prediction(test_audios=all_audios, weights_path=exp2, threshold=0.11, base_model = 'resnext50d_32x4d')\n",
    "\n",
    "preds = pd.merge(pred1, pred2, on = 'row_id')\n",
    "#preds = pd.merge(preds, pred3, on = 'row_id')\n",
    "\n",
    "preds['target'] = (preds.iloc[:,1]) | (preds.iloc[:,2])\n",
    "submission = preds.loc[:, ['row_id', 'target']]\n",
    "\n",
    "\n",
    "submission.to_csv(\"submission.csv\", index=False)"
   ]
  },
  {
   "cell_type": "code",
   "execution_count": 14,
   "id": "5e9bf78d",
   "metadata": {
    "execution": {
     "iopub.execute_input": "2022-05-01T05:21:51.193049Z",
     "iopub.status.busy": "2022-05-01T05:21:51.192345Z",
     "iopub.status.idle": "2022-05-01T05:21:51.195429Z",
     "shell.execute_reply": "2022-05-01T05:21:51.195827Z",
     "shell.execute_reply.started": "2022-05-01T05:17:56.204980Z"
    },
    "papermill": {
     "duration": 0.039628,
     "end_time": "2022-05-01T05:21:51.195959",
     "exception": false,
     "start_time": "2022-05-01T05:21:51.156331",
     "status": "completed"
    },
    "tags": []
   },
   "outputs": [
    {
     "data": {
      "text/plain": [
       "False    173\n",
       "True      79\n",
       "Name: target, dtype: int64"
      ]
     },
     "execution_count": 14,
     "metadata": {},
     "output_type": "execute_result"
    }
   ],
   "source": [
    "pred1.target.value_counts()"
   ]
  },
  {
   "cell_type": "code",
   "execution_count": 15,
   "id": "b2f33bf5",
   "metadata": {
    "execution": {
     "iopub.execute_input": "2022-05-01T05:21:51.259572Z",
     "iopub.status.busy": "2022-05-01T05:21:51.258676Z",
     "iopub.status.idle": "2022-05-01T05:21:51.261861Z",
     "shell.execute_reply": "2022-05-01T05:21:51.262266Z",
     "shell.execute_reply.started": "2022-05-01T05:17:56.218612Z"
    },
    "papermill": {
     "duration": 0.038109,
     "end_time": "2022-05-01T05:21:51.262382",
     "exception": false,
     "start_time": "2022-05-01T05:21:51.224273",
     "status": "completed"
    },
    "tags": []
   },
   "outputs": [
    {
     "data": {
      "text/plain": [
       "False    190\n",
       "True      62\n",
       "Name: target, dtype: int64"
      ]
     },
     "execution_count": 15,
     "metadata": {},
     "output_type": "execute_result"
    }
   ],
   "source": [
    "pred2.target.value_counts()"
   ]
  },
  {
   "cell_type": "code",
   "execution_count": 16,
   "id": "b39eeb75",
   "metadata": {
    "execution": {
     "iopub.execute_input": "2022-05-01T05:21:51.325211Z",
     "iopub.status.busy": "2022-05-01T05:21:51.324597Z",
     "iopub.status.idle": "2022-05-01T05:21:51.327430Z",
     "shell.execute_reply": "2022-05-01T05:21:51.327941Z",
     "shell.execute_reply.started": "2022-05-01T05:17:56.237433Z"
    },
    "papermill": {
     "duration": 0.037014,
     "end_time": "2022-05-01T05:21:51.328081",
     "exception": false,
     "start_time": "2022-05-01T05:21:51.291067",
     "status": "completed"
    },
    "tags": []
   },
   "outputs": [
    {
     "data": {
      "text/plain": [
       "False    161\n",
       "True      91\n",
       "Name: target, dtype: int64"
      ]
     },
     "execution_count": 16,
     "metadata": {},
     "output_type": "execute_result"
    }
   ],
   "source": [
    "submission.target.value_counts()"
   ]
  },
  {
   "cell_type": "code",
   "execution_count": null,
   "id": "b758daf8",
   "metadata": {
    "papermill": {
     "duration": 0.028679,
     "end_time": "2022-05-01T05:21:51.385913",
     "exception": false,
     "start_time": "2022-05-01T05:21:51.357234",
     "status": "completed"
    },
    "tags": []
   },
   "outputs": [],
   "source": []
  }
 ],
 "metadata": {
  "kernelspec": {
   "display_name": "Python 3",
   "language": "python",
   "name": "python3"
  },
  "language_info": {
   "codemirror_mode": {
    "name": "ipython",
    "version": 3
   },
   "file_extension": ".py",
   "mimetype": "text/x-python",
   "name": "python",
   "nbconvert_exporter": "python",
   "pygments_lexer": "ipython3",
   "version": "3.7.12"
  },
  "papermill": {
   "default_parameters": {},
   "duration": 94.429816,
   "end_time": "2022-05-01T05:21:53.027535",
   "environment_variables": {},
   "exception": null,
   "input_path": "__notebook__.ipynb",
   "output_path": "__notebook__.ipynb",
   "parameters": {},
   "start_time": "2022-05-01T05:20:18.597719",
   "version": "2.3.3"
  }
 },
 "nbformat": 4,
 "nbformat_minor": 5
}
